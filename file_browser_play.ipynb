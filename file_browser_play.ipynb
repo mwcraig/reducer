{
 "cells": [
  {
   "cell_type": "code",
   "execution_count": 5,
   "id": "3813cce4-d170-42f3-a8de-2b796e461c53",
   "metadata": {},
   "outputs": [
    {
     "name": "stdout",
     "output_type": "stream",
     "text": [
      "The autoreload extension is already loaded. To reload it, use:\n",
      "  %reload_ext autoreload\n"
     ]
    }
   ],
   "source": [
    "%load_ext autoreload\n",
    "%autoreload 2\n",
    "\n",
    "from collections import defaultdict\n",
    "\n",
    "import ipywidgets as ipw\n",
    "from traitlets import Unicode\n",
    "\n",
    "from astropy.table import Table \n",
    "\n",
    "from ccdproc import ImageFileCollection\n",
    "\n",
    "from reducer.image_browser2 import ButtonHolder"
   ]
  },
  {
   "cell_type": "code",
   "execution_count": 6,
   "id": "1fabdb3d-e243-4b2e-8543-68524e1ad85b",
   "metadata": {},
   "outputs": [],
   "source": [
    "ifc = ImageFileCollection('ims')"
   ]
  },
  {
   "cell_type": "code",
   "execution_count": 159,
   "id": "97bded25-faed-40a9-a809-beb82d50d951",
   "metadata": {},
   "outputs": [],
   "source": [
    "def rec_dd():\n",
    "    \"\"\"\n",
    "    A recursive default dict for holding the button groups.\n",
    "    \n",
    "    Capy/pasted from \n",
    "    \n",
    "    https://stackoverflow.com/a/19189356/3486425\n",
    "    \n",
    "    Thanks, Andrew Clark!\n",
    "    \"\"\"\n",
    "    return defaultdict(rec_dd)\n",
    "\n",
    "class NestedButtons(ipw.Box):\n",
    "    def __init__(self, collection, keys=None, **kwd):\n",
    "        super().__init__(**kwd)\n",
    "        \n",
    "        self._table = collection.summary\n",
    "        if not isinstance(keys, list):\n",
    "            keys = [keys]\n",
    "            \n",
    "        self._key_names = keys\n",
    "        self._grouped = self._table.group_by(keys)\n",
    "        self._depth = len(keys)\n",
    "        self._top = ipw.Accordion()\n",
    "        self._top_d = rec_dd()\n",
    "        \n",
    "    def _make_leaves(self):\n",
    "        butt_groups = []\n",
    "\n",
    "        ays = []\n",
    "        old_keys = []\n",
    "        for key, v in zip(self._grouped.groups.keys, self._grouped.groups):\n",
    "            print(f'{key=}')\n",
    "            print('----->', list(key))\n",
    "            print(key.colnames[:-1])\n",
    "            #print([k for k in key[key.colnames[:-1]]])\n",
    "            #new_keys = [k for k in key[key.colnames[:-1]]]\n",
    "            #if new_keys == old_keys:\n",
    "            #     print('moo')\n",
    "            # else:\n",
    "            #     print('oink')\n",
    "\n",
    "            ntt = self._top_d\n",
    "            for k in list(key)[:-1]:\n",
    "                ntt = ntt[k]\n",
    "                \n",
    "            # old_keys = new_keys\n",
    "            b = ButtonHolder(descriptions=v['file'])\n",
    "            a = ipw.Accordion()\n",
    "            a.children = [b]\n",
    "            a.titles = [f'{key.colnames[-1]}: {key[-1]} ({len(v)} image{\"s\" if len(v) > 1 else \"\"})']\n",
    "            butt_groups.append(b)\n",
    "            ntt[key[-1]] = a\n",
    "            ays.append(a)\n",
    "            #path = '😃'.join([k for k in key])\n",
    "            #ays[path] = a\n",
    "        return butt_groups, ays\n",
    "\n",
    "    def _make_parent(self, keys, kid):\n",
    "        if len(keys) == 1:\n",
    "            key = keys[0]\n",
    "            if key not in self._top.titles:\n",
    "                titles = self._top.titles\n",
    "                self._top.children = list(self._top.children) + [child]\n",
    "                self._top.titles = list(titles) + [key]\n",
    "        else:\n",
    "            pass\n",
    "            "
   ]
  },
  {
   "cell_type": "markdown",
   "id": "05224a69-90e1-4723-9ec6-3e009f0e3b91",
   "metadata": {
    "tags": []
   },
   "source": [
    "class ButtonHolder(ipw.VBox):\n",
    "    selected_button = Unicode(help='Button that was most recently clicked').tag(sync=True)\n",
    "    def __init__(self, **kwd):\n",
    "        super().__init__(**kwd)\n",
    "        self._buttons = {}\n",
    "        self.button_layout = ipw.Layout(width='100%', \n",
    "                                       height='25px',\n",
    "                                       min_height='25px',\n",
    "                                       align_content='flex-start',\n",
    "                                       justify_content='flex-start')\n",
    "        font_settings = dict(\n",
    "            font_weight='bold',\n",
    "            font_size='0.7em'\n",
    "        )\n",
    "        self.unselected_button_style = ipw.ButtonStyle(**font_settings)\n",
    "        self.selected_button_style = ipw.ButtonStyle(\n",
    "            button_color='CadetBlue',\n",
    "            **font_settings\n",
    "        )\n",
    "        self.layout = ipw.Layout(overflow='hidden scroll')\n",
    "        \n",
    "    def set_buttons(self, descriptions):\n",
    "        buttons = {}\n",
    "        for desc in descriptions:\n",
    "            b = ipw.Button(description=desc, \n",
    "                           layout=self.button_layout,\n",
    "                           style=self.unselected_button_style\n",
    "                          )\n",
    "            b.on_click(self._make_button_handler())\n",
    "            buttons[desc] = b\n",
    "        self._buttons = buttons\n",
    "        self.children = list(buttons.values())\n",
    "        \n",
    "    def _make_button_handler(self):\n",
    "        def button_handler(button):\n",
    "            if self.selected_button and (button.description != self.selected_button):\n",
    "                self._buttons[self.selected_button].style = self.unselected_button_style\n",
    "            \n",
    "            self.selected_button = button.description\n",
    "            button.style = self.selected_button_style\n",
    "        \n",
    "        return button_handler"
   ]
  },
  {
   "cell_type": "code",
   "execution_count": 145,
   "id": "94504f4d-df73-4bb2-b2ad-92073f84e353",
   "metadata": {},
   "outputs": [
    {
     "name": "stdout",
     "output_type": "stream",
     "text": [
      "key=<Row index=0>\n",
      "filter\n",
      " str2 \n",
      "------\n",
      "    gp\n",
      "-----> ['gp']\n",
      "[]\n",
      "key=<Row index=1>\n",
      "filter\n",
      " str2 \n",
      "------\n",
      "    ip\n",
      "-----> ['ip']\n",
      "[]\n"
     ]
    }
   ],
   "source": [
    "nbuh = NestedButtons(ifc, keys=['filter']) # , 'exptime', 'object'\n",
    "b, a = nbuh._make_leaves()"
   ]
  },
  {
   "cell_type": "code",
   "execution_count": 153,
   "id": "01cfbf1d-47ad-432f-bf9e-39afd4bcb234",
   "metadata": {
    "tags": []
   },
   "outputs": [],
   "source": [
    "def make_accords(top, top_a, key_names):\n",
    "    kids = []\n",
    "    titles = []\n",
    "    print(key_names)\n",
    "    print(top)\n",
    "    if len(key_names) > 2:\n",
    "        for k, v in top.items():\n",
    "            a = ipw.Accordion()\n",
    "            make_accords(top[k], a, key_names[1:])\n",
    "            titles.append(f'{key_names[0]}: {k}')\n",
    "            kids.append(a)\n",
    "        top_a.children = kids\n",
    "        top_a.titles = titles\n",
    "    else:\n",
    "        for k, v in top.items():\n",
    "            kids.append(v)\n",
    "        print('moo', k, v, top_a)\n",
    "        top_a.children = list(top.values()) # kids\n",
    "        top_a.titles = list(top.keys()) #['moo'] * len(top_a.children)\n",
    "        #a = v\n",
    "        #a = list(v.values())[0]\n",
    "        # titles.append('moo')\n",
    "        # kids.append(a)\n",
    "    \n",
    "    \n",
    "    "
   ]
  },
  {
   "cell_type": "code",
   "execution_count": 154,
   "id": "558b8947-17b0-4680-9a20-672117f8ddbc",
   "metadata": {},
   "outputs": [],
   "source": [
    "def make_accords_og(top, top_a, key_names):\n",
    "    kids = []\n",
    "    titles = []\n",
    "    print(key_names)\n",
    "    print(top_a)\n",
    "    \n",
    "    for k, v in top.items():\n",
    "        if len(key_names) > 1:\n",
    "            a = ipw.Accordion()\n",
    "            make_accords_og(top[k], a, key_names[1:])\n",
    "            titles.append(f'{key_names[0]}: {k}')\n",
    "        else:\n",
    "            print('moo', k, v)\n",
    "            a = v\n",
    "            #a = list(v.values())[0]\n",
    "            titles.append('moo')\n",
    "        kids.append(a)\n",
    "    print(f'{titles=}')\n",
    "    top_a.children = kids\n",
    "    top_a.titles = titles\n",
    "    "
   ]
  },
  {
   "cell_type": "code",
   "execution_count": 155,
   "id": "81df68c4-f766-4ec9-9d2d-d908c5d67bf2",
   "metadata": {},
   "outputs": [
    {
     "name": "stdout",
     "output_type": "stream",
     "text": [
      "['filter']\n",
      "Accordion(children=(Accordion(children=(ButtonHolder(children=(Button(description='TIC272758199-01_20200701_Paul-P-Feder-0.4m_gp_platesolved.fit', layout=Layout(align_content='flex-start', height='25px', justify_content='flex-start', min_height='25px', width='100%'), style=ButtonStyle(font_size='0.7em', font_weight='bold')),), layout=Layout(overflow='hidden scroll')),), titles=('filter: gp (1 image)',)), Accordion(children=(ButtonHolder(children=(Button(description='TIC106224627.01_20220713_Paul-P-Feder-0.4m_ip_platesolved.fit', layout=Layout(align_content='flex-start', height='25px', justify_content='flex-start', min_height='25px', width='100%'), style=ButtonStyle(font_size='0.7em', font_weight='bold')), Button(description='TIC272758199-01_20200701_Paul-P-Feder-0.4m_ip_platesolved.fit', layout=Layout(align_content='flex-start', height='25px', justify_content='flex-start', min_height='25px', width='100%'), style=ButtonStyle(font_size='0.7em', font_weight='bold')), Button(description='TIC402828941.01_20220804_Paul-P-Feder-0.4m_ip_platesolved.fit', layout=Layout(align_content='flex-start', height='25px', justify_content='flex-start', min_height='25px', width='100%'), style=ButtonStyle(font_size='0.7em', font_weight='bold'))), layout=Layout(overflow='hidden scroll')),), titles=('filter: ip (3 images)',))), titles=('moo', 'moo'))\n",
      "moo gp Accordion(children=(ButtonHolder(children=(Button(description='TIC272758199-01_20200701_Paul-P-Feder-0.4m_gp_platesolved.fit', layout=Layout(align_content='flex-start', height='25px', justify_content='flex-start', min_height='25px', width='100%'), style=ButtonStyle(font_size='0.7em', font_weight='bold')),), layout=Layout(overflow='hidden scroll')),), titles=('filter: gp (1 image)',))\n",
      "moo ip Accordion(children=(ButtonHolder(children=(Button(description='TIC106224627.01_20220713_Paul-P-Feder-0.4m_ip_platesolved.fit', layout=Layout(align_content='flex-start', height='25px', justify_content='flex-start', min_height='25px', width='100%'), style=ButtonStyle(font_size='0.7em', font_weight='bold')), Button(description='TIC272758199-01_20200701_Paul-P-Feder-0.4m_ip_platesolved.fit', layout=Layout(align_content='flex-start', height='25px', justify_content='flex-start', min_height='25px', width='100%'), style=ButtonStyle(font_size='0.7em', font_weight='bold')), Button(description='TIC402828941.01_20220804_Paul-P-Feder-0.4m_ip_platesolved.fit', layout=Layout(align_content='flex-start', height='25px', justify_content='flex-start', min_height='25px', width='100%'), style=ButtonStyle(font_size='0.7em', font_weight='bold'))), layout=Layout(overflow='hidden scroll')),), titles=('filter: ip (3 images)',))\n",
      "titles=['moo', 'moo']\n"
     ]
    }
   ],
   "source": [
    "make_accords_og(nbuh._top_d, nbuh._top, nbuh._key_names)"
   ]
  },
  {
   "cell_type": "code",
   "execution_count": 156,
   "id": "b15e78a4-22bf-48ee-8b23-61da719859d5",
   "metadata": {},
   "outputs": [],
   "source": [
    "fake_top = ipw.Accordion()"
   ]
  },
  {
   "cell_type": "code",
   "execution_count": 157,
   "id": "678f00a5-87aa-4d85-8145-cb06b907907a",
   "metadata": {},
   "outputs": [
    {
     "name": "stdout",
     "output_type": "stream",
     "text": [
      "['filter']\n",
      "defaultdict(<function rec_dd at 0x1867863b0>, {'gp': Accordion(children=(ButtonHolder(children=(Button(description='TIC272758199-01_20200701_Paul-P-Feder-0.4m_gp_platesolved.fit', layout=Layout(align_content='flex-start', height='25px', justify_content='flex-start', min_height='25px', width='100%'), style=ButtonStyle(font_size='0.7em', font_weight='bold')),), layout=Layout(overflow='hidden scroll')),), titles=('filter: gp (1 image)',)), 'ip': Accordion(children=(ButtonHolder(children=(Button(description='TIC106224627.01_20220713_Paul-P-Feder-0.4m_ip_platesolved.fit', layout=Layout(align_content='flex-start', height='25px', justify_content='flex-start', min_height='25px', width='100%'), style=ButtonStyle(font_size='0.7em', font_weight='bold')), Button(description='TIC272758199-01_20200701_Paul-P-Feder-0.4m_ip_platesolved.fit', layout=Layout(align_content='flex-start', height='25px', justify_content='flex-start', min_height='25px', width='100%'), style=ButtonStyle(font_size='0.7em', font_weight='bold')), Button(description='TIC402828941.01_20220804_Paul-P-Feder-0.4m_ip_platesolved.fit', layout=Layout(align_content='flex-start', height='25px', justify_content='flex-start', min_height='25px', width='100%'), style=ButtonStyle(font_size='0.7em', font_weight='bold'))), layout=Layout(overflow='hidden scroll')),), titles=('filter: ip (3 images)',))})\n",
      "moo ip Accordion(children=(ButtonHolder(children=(Button(description='TIC106224627.01_20220713_Paul-P-Feder-0.4m_ip_platesolved.fit', layout=Layout(align_content='flex-start', height='25px', justify_content='flex-start', min_height='25px', width='100%'), style=ButtonStyle(font_size='0.7em', font_weight='bold')), Button(description='TIC272758199-01_20200701_Paul-P-Feder-0.4m_ip_platesolved.fit', layout=Layout(align_content='flex-start', height='25px', justify_content='flex-start', min_height='25px', width='100%'), style=ButtonStyle(font_size='0.7em', font_weight='bold')), Button(description='TIC402828941.01_20220804_Paul-P-Feder-0.4m_ip_platesolved.fit', layout=Layout(align_content='flex-start', height='25px', justify_content='flex-start', min_height='25px', width='100%'), style=ButtonStyle(font_size='0.7em', font_weight='bold'))), layout=Layout(overflow='hidden scroll')),), titles=('filter: ip (3 images)',)) Accordion()\n"
     ]
    }
   ],
   "source": [
    "make_accords(nbuh._top_d, fake_top, nbuh._key_names)"
   ]
  },
  {
   "cell_type": "code",
   "execution_count": 158,
   "id": "283f7813-dd6a-4f65-a617-b3a22bdbb6b8",
   "metadata": {},
   "outputs": [
    {
     "data": {
      "application/vnd.jupyter.widget-view+json": {
       "model_id": "b64f5be1e16d4b73816c48a3d944d4c7",
       "version_major": 2,
       "version_minor": 0
      },
      "text/plain": [
       "Accordion(children=(Accordion(children=(ButtonHolder(children=(Button(description='TIC272758199-01_20200701_Pa…"
      ]
     },
     "execution_count": 158,
     "metadata": {},
     "output_type": "execute_result"
    }
   ],
   "source": [
    "fake_top"
   ]
  },
  {
   "cell_type": "code",
   "execution_count": 152,
   "id": "0e8c4f34-d2bd-482c-99cd-b78e68c43ce3",
   "metadata": {},
   "outputs": [
    {
     "data": {
      "application/vnd.jupyter.widget-view+json": {
       "model_id": "3815f5f12f6541cd8213b9b28d395827",
       "version_major": 2,
       "version_minor": 0
      },
      "text/plain": [
       "Accordion(children=(Accordion(children=(ButtonHolder(children=(Button(description='TIC272758199-01_20200701_Pa…"
      ]
     },
     "execution_count": 152,
     "metadata": {},
     "output_type": "execute_result"
    }
   ],
   "source": [
    "nbuh._top"
   ]
  },
  {
   "cell_type": "code",
   "execution_count": 21,
   "id": "670976e9-41fc-4ad9-a481-85ded96a96bb",
   "metadata": {},
   "outputs": [
    {
     "data": {
      "application/vnd.jupyter.widget-view+json": {
       "model_id": "3ccc6aac0c6a463aa39b0d8c315181c2",
       "version_major": 2,
       "version_minor": 0
      },
      "text/plain": [
       "Accordion(children=(ButtonHolder(children=(Button(description='TIC272758199-01_20200701_Paul-P-Feder-0.4m_gp_p…"
      ]
     },
     "execution_count": 21,
     "metadata": {},
     "output_type": "execute_result"
    }
   ],
   "source": [
    "a[0]"
   ]
  },
  {
   "cell_type": "code",
   "execution_count": 39,
   "id": "68cf5f42-3ae3-4724-9e34-c6836529c430",
   "metadata": {},
   "outputs": [
    {
     "data": {
      "text/plain": [
       "['gp', 'ip']"
      ]
     },
     "execution_count": 39,
     "metadata": {},
     "output_type": "execute_result"
    }
   ],
   "source": [
    "list(nbuh._top_d.keys())"
   ]
  },
  {
   "cell_type": "code",
   "execution_count": 339,
   "id": "5126873a-4541-48a3-8593-3a542be8610d",
   "metadata": {},
   "outputs": [],
   "source": [
    "ks = nbuh._grouped.groups.keys\n",
    "columns = ks.colnames\n",
    "\n",
    "def add_ds(tapas, keyset):\n",
    "    pass\n",
    "    "
   ]
  },
  {
   "cell_type": "code",
   "execution_count": 340,
   "id": "24b29fac-2750-42d5-a769-624b8c52095a",
   "metadata": {},
   "outputs": [],
   "source": [
    "from collections import defaultdict"
   ]
  },
  {
   "cell_type": "code",
   "execution_count": 345,
   "id": "70f5ca04-8da0-426c-8b90-e0104798235c",
   "metadata": {},
   "outputs": [],
   "source": [
    "d = defaultdict(dict)\n",
    "def rec_dd():\n",
    "    return defaultdict(rec_dd)"
   ]
  },
  {
   "cell_type": "code",
   "execution_count": 346,
   "id": "d3b377ea-2493-416f-9f2e-4a1cee3e5e85",
   "metadata": {},
   "outputs": [],
   "source": [
    "top = rec_dd()\n",
    "\n",
    "for key in ks:\n",
    "    ntt = top\n",
    "    for k in key:\n",
    "        ntt = ntt[k]"
   ]
  },
  {
   "cell_type": "code",
   "execution_count": 352,
   "id": "5b0e562f-c4bd-4656-bacd-335a4c7b0b99",
   "metadata": {},
   "outputs": [
    {
     "data": {
      "text/plain": [
       "defaultdict(<function __main__.rec_dd()>,\n",
       "            {'gp': defaultdict(<function __main__.rec_dd()>,\n",
       "                         {120.0: defaultdict(<function __main__.rec_dd()>,\n",
       "                                      {'tic-272758199': defaultdict(<function __main__.rec_dd()>,\n",
       "                                                   {})})}),\n",
       "             'ip': defaultdict(<function __main__.rec_dd()>,\n",
       "                         {120.0: defaultdict(<function __main__.rec_dd()>,\n",
       "                                      {'TIC-106224627': defaultdict(<function __main__.rec_dd()>,\n",
       "                                                   {}),\n",
       "                                       'TIC-402828941': defaultdict(<function __main__.rec_dd()>,\n",
       "                                                   {}),\n",
       "                                       'tic-272758199': defaultdict(<function __main__.rec_dd()>,\n",
       "                                                   {})})})})"
      ]
     },
     "execution_count": 352,
     "metadata": {},
     "output_type": "execute_result"
    }
   ],
   "source": [
    "top"
   ]
  },
  {
   "cell_type": "code",
   "execution_count": 233,
   "id": "492e5077-d4b5-4b3d-a86c-68c959e3c232",
   "metadata": {},
   "outputs": [],
   "source": [
    "buh = ButtonHolder()\n",
    "buh.layout.width = \"20%\"\n",
    "buh.layout.height = \"200px\"\n",
    "buh.layout.border = 'solid'\n",
    "butts = [str(i) for i in range(40)]\n",
    "buh.set_buttons(butts) # ['asaodjfoerjfoirjfoierf'] * 30)"
   ]
  },
  {
   "cell_type": "code",
   "execution_count": 234,
   "id": "7b4c67cd-6b9b-47f8-b669-464650d5e87f",
   "metadata": {},
   "outputs": [
    {
     "data": {
      "application/vnd.jupyter.widget-view+json": {
       "model_id": "4a1d7b4eb43149f1aeaa6461d218e149",
       "version_major": 2,
       "version_minor": 0
      },
      "text/plain": [
       "HBox(layout=Layout(border_bottom='solid', border_left='solid', border_right='solid', border_top='solid'))"
      ]
     },
     "execution_count": 234,
     "metadata": {},
     "output_type": "execute_result"
    }
   ],
   "source": [
    "ab = ipw.HBox()\n",
    "ab.layout.border = 'solid'\n",
    "ab"
   ]
  },
  {
   "cell_type": "code",
   "execution_count": 235,
   "id": "f00f26ea-9519-4905-bbdf-60e30e341151",
   "metadata": {},
   "outputs": [],
   "source": [
    "ab.children = (buh,)"
   ]
  },
  {
   "cell_type": "code",
   "execution_count": null,
   "id": "4f97f5c6-f581-48da-8c01-01550212f73f",
   "metadata": {},
   "outputs": [],
   "source": [
    "buh.selected_button"
   ]
  },
  {
   "cell_type": "code",
   "execution_count": null,
   "id": "6c65996c-5131-4b07-8e78-698dfd200b83",
   "metadata": {},
   "outputs": [],
   "source": [
    "pooh = ipw.Select(options=['a', 'b', 'c'])\n",
    "\n",
    "pooh"
   ]
  },
  {
   "cell_type": "code",
   "execution_count": null,
   "id": "000d07f3-e13d-4adc-bd67-24158393d60b",
   "metadata": {},
   "outputs": [],
   "source": [
    "pooh.value = None"
   ]
  },
  {
   "cell_type": "code",
   "execution_count": 247,
   "id": "4a602b1d-a630-4661-9797-576297f59d3d",
   "metadata": {},
   "outputs": [],
   "source": [
    "d = dict(a=[0,0,4,4,5], b=[1,1,1,2,3], c=range(5))\n",
    "tab = Table(d)"
   ]
  },
  {
   "cell_type": "code",
   "execution_count": 248,
   "id": "49ce4a92-24dc-4a67-94ec-880744c8a55e",
   "metadata": {},
   "outputs": [
    {
     "name": "stdout",
     "output_type": "stream",
     "text": [
      "a\n",
      "b\n",
      "c\n"
     ]
    }
   ],
   "source": [
    "for c in tab.columns:\n",
    "    print(c)"
   ]
  },
  {
   "cell_type": "code",
   "execution_count": 249,
   "id": "cf249c4b-05dc-4158-ac48-9e47d4d5799f",
   "metadata": {},
   "outputs": [
    {
     "data": {
      "text/plain": [
       "(<TableColumns names=('a','b','c')>, ['a', 'b', 'c'])"
      ]
     },
     "execution_count": 249,
     "metadata": {},
     "output_type": "execute_result"
    }
   ],
   "source": [
    "tab.columns, tab.colnames"
   ]
  },
  {
   "cell_type": "code",
   "execution_count": 278,
   "id": "5b93a0ad-a275-4edb-8c11-3b2378795ffb",
   "metadata": {},
   "outputs": [
    {
     "data": {
      "text/plain": [
       "<TableColumns names=('a','b')>"
      ]
     },
     "execution_count": 278,
     "metadata": {},
     "output_type": "execute_result"
    }
   ],
   "source": [
    "tab.group_by(['a', 'b']).groups.keys[0].columns"
   ]
  },
  {
   "cell_type": "code",
   "execution_count": null,
   "id": "d7a7fb30-a6a4-4653-b747-000a702ed350",
   "metadata": {},
   "outputs": [],
   "source": []
  }
 ],
 "metadata": {
  "kernelspec": {
   "display_name": "Python 3 (ipykernel)",
   "language": "python",
   "name": "python3"
  },
  "language_info": {
   "codemirror_mode": {
    "name": "ipython",
    "version": 3
   },
   "file_extension": ".py",
   "mimetype": "text/x-python",
   "name": "python",
   "nbconvert_exporter": "python",
   "pygments_lexer": "ipython3",
   "version": "3.10.6"
  }
 },
 "nbformat": 4,
 "nbformat_minor": 5
}
