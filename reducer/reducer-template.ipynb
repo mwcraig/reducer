{
 "cells": [
  {
   "cell_type": "markdown",
   "metadata": {},
   "source": [
    "## Reducer: (Put your name here)"
   ]
  },
  {
   "cell_type": "markdown",
   "metadata": {},
   "source": [
    "## Reviewer: (Put your name here)"
   ]
  },
  {
   "cell_type": "markdown",
   "metadata": {},
   "source": [
    "# jupyter notebook crash course"
   ]
  },
  {
   "cell_type": "markdown",
   "metadata": {},
   "source": [
    "Click on a code cell (has grey background) then press Shift-Enter (at the same time) to run a code cell. That will add the controls (buttons, etc) you use to do the reduction one-by-one; then use them for reduction."
   ]
  },
  {
   "cell_type": "code",
   "execution_count": null,
   "metadata": {},
   "outputs": [],
   "source": [
    "from pathlib import Path\n",
    "\n",
    "from ipyautoui.custom import FileChooser\n",
    "import ipywidgets as ipw\n",
    "\n",
    "import reducer.gui\n",
    "import reducer.astro_gui as astro_gui\n",
    "from reducer.image_browser import ImageBrowser\n",
    "\n",
    "from ccdproc import ImageFileCollection\n",
    "\n",
    "from reducer import __version__\n",
    "print(__version__)"
   ]
  },
  {
   "cell_type": "markdown",
   "metadata": {},
   "source": [
    "# Enter name of directory that contains your data in the cell below, "
   ]
  },
  {
   "cell_type": "code",
   "execution_count": null,
   "metadata": {},
   "outputs": [],
   "source": [
    "select_uncalibrated_data = FileChooser(show_only_dirs=True)\n",
    "select_uncalibrated_data"
   ]
  },
  {
   "cell_type": "code",
   "execution_count": null,
   "metadata": {},
   "outputs": [],
   "source": [
    "data_dir = select_uncalibrated_data.value\n",
    "print(f'Uncalibrated data is in {data_dir}')"
   ]
  },
  {
   "cell_type": "markdown",
   "metadata": {},
   "source": [
    "## Your calibrated images will go into a folder called \"reduced\""
   ]
  },
  {
   "cell_type": "code",
   "execution_count": null,
   "metadata": {},
   "outputs": [],
   "source": [
    "destination_dir = 'reduced'\n",
    "\n",
    "path = Path(\".\") / destination_dir\n",
    "path.mkdir(exist_ok=True)"
   ]
  },
  {
   "cell_type": "markdown",
   "metadata": {},
   "source": [
    "# Type any comments about this dataset here\n",
    "\n",
    "Double-click on the cell to start editing it."
   ]
  },
  {
   "cell_type": "markdown",
   "metadata": {},
   "source": [
    "# Load your data set"
   ]
  },
  {
   "cell_type": "code",
   "execution_count": null,
   "metadata": {},
   "outputs": [],
   "source": [
    "images = ImageFileCollection(location=data_dir, keywords='*')"
   ]
  },
  {
   "cell_type": "markdown",
   "metadata": {},
   "source": [
    "# Image Summary\n",
    "\n",
    "## Includes browser and image/metadata viewer\n",
    "\n",
    "This is not, strictly speaking, part of reduction, but is a handy way to take a quick look at your files."
   ]
  },
  {
   "cell_type": "code",
   "execution_count": null,
   "metadata": {},
   "outputs": [],
   "source": [
    "fits_browser = ImageBrowser(images, keys=['imagetyp', 'exptime'])\n",
    "fits_browser.display()"
   ]
  },
  {
   "cell_type": "markdown",
   "metadata": {},
   "source": [
    "# Check names of image types and exposure time keyword"
   ]
  },
  {
   "cell_type": "code",
   "execution_count": null,
   "metadata": {},
   "outputs": [],
   "source": [
    "input_imagetypes = sorted(set(images.summary[\"imagetyp\"]))\n",
    "types = [\"bias\", \"dark\", \"flat\", \"light\"]\n",
    "EXPOSURE_KEYWORDS = [\"EXPOSURE\", \"EXPTIME\", \"TELAPSE\", \"ELAPTIME\", \"ONTIME\", \"LIVETIME\"]\n",
    "\n",
    "widgets = {}\n",
    "for ty in types:\n",
    "    match_types = [in_im for in_im in input_imagetypes if ty in in_im.lower()]\n",
    "    widgets[ty] = ipw.Dropdown(description=ty.capitalize(), options=input_imagetypes)\n",
    "    widgets[ty].value = match_types[0] if match_types else input_imagetypes[0]\n",
    "\n",
    "exp_times_chooser = ipw.Dropdown(description=\"Exposure time\", options=EXPOSURE_KEYWORDS)\n",
    "maybe_exp_time = [exp for exp in EXPOSURE_KEYWORDS if exp.lower() in images.summary.colnames]\n",
    "exp_times_chooser.value = maybe_exp_time[0] if maybe_exp_time else EXPOSURE_KEYWORDS[0]\n",
    "    \n",
    "title = ipw.HTML(value=\"Choose the keyword in your images for each type\")\n",
    "vb = ipw.VBox(children=[title] + list(widgets.values()) + [exp_times_chooser])\n",
    "vb\n"
   ]
  },
  {
   "cell_type": "code",
   "execution_count": null,
   "metadata": {},
   "outputs": [],
   "source": [
    "imagetype_map = {k: v.value for k, v in widgets.items()}\n",
    "exposure_time_keyword = exp_times_chooser.value.lower()"
   ]
  },
  {
   "cell_type": "code",
   "execution_count": null,
   "metadata": {},
   "outputs": [],
   "source": [
    "imagetype_map, exposure_time_keyword"
   ]
  },
  {
   "cell_type": "markdown",
   "metadata": {
    "tags": []
   },
   "source": [
    "# Make a combined bias image"
   ]
  },
  {
   "cell_type": "markdown",
   "metadata": {},
   "source": [
    "## Reduce the bias images"
   ]
  },
  {
   "cell_type": "code",
   "execution_count": null,
   "metadata": {},
   "outputs": [],
   "source": [
    "bias_reduction = astro_gui.Reduction(description='Reduce bias frames',\n",
    "                                     toggle_type='button',\n",
    "                                     allow_bias=False,\n",
    "                                     allow_dark=False,\n",
    "                                     allow_flat=False,\n",
    "                                     input_image_collection=images,\n",
    "                                     imagetype_map=imagetype_map,\n",
    "                                     apply_to={'imagetyp': 'bias'},\n",
    "                                     destination=destination_dir)\n",
    "bias_reduction.display()"
   ]
  },
  {
   "cell_type": "code",
   "execution_count": null,
   "metadata": {},
   "outputs": [],
   "source": [
    "print(bias_reduction)"
   ]
  },
  {
   "cell_type": "markdown",
   "metadata": {},
   "source": [
    "## Combine bias images to make combined bias"
   ]
  },
  {
   "cell_type": "code",
   "execution_count": null,
   "metadata": {},
   "outputs": [],
   "source": [
    "reduced_collection = ImageFileCollection(location=destination_dir, keywords='*')\n",
    "bias = astro_gui.Combiner(description=\"Combined Bias Settings\",\n",
    "                          toggle_type='button',\n",
    "                          file_name_base='combined_bias',\n",
    "                          image_source=reduced_collection,\n",
    "                          imagetype_map=imagetype_map,\n",
    "                          apply_to={'imagetyp': 'bias'},\n",
    "                          destination=destination_dir)\n",
    "bias.display()"
   ]
  },
  {
   "cell_type": "code",
   "execution_count": null,
   "metadata": {},
   "outputs": [],
   "source": [
    "print(bias)"
   ]
  },
  {
   "cell_type": "markdown",
   "metadata": {},
   "source": [
    "# Make a combined dark"
   ]
  },
  {
   "cell_type": "markdown",
   "metadata": {},
   "source": [
    "## Reduce dark images"
   ]
  },
  {
   "cell_type": "code",
   "execution_count": null,
   "metadata": {},
   "outputs": [],
   "source": [
    "reduced_collection = ImageFileCollection(location=destination_dir, keywords='*')\n",
    "dark_reduction = astro_gui.Reduction(description='Reduce dark frames',\n",
    "                                     toggle_type='button',\n",
    "                                     allow_bias=True,\n",
    "                                     master_source=reduced_collection,\n",
    "                                     allow_dark=False,\n",
    "                                     allow_flat=False,\n",
    "                                     input_image_collection=images,\n",
    "                                     imagetype_map=imagetype_map,\n",
    "                                     destination=destination_dir,\n",
    "                                     apply_to={'imagetyp': 'dark'})\n",
    "\n",
    "dark_reduction.display()"
   ]
  },
  {
   "cell_type": "code",
   "execution_count": null,
   "metadata": {},
   "outputs": [],
   "source": [
    "print(dark_reduction)"
   ]
  },
  {
   "cell_type": "markdown",
   "metadata": {},
   "source": [
    "## Combine reduced darks\n",
    "\n",
    "Note the ``Group by`` option in the controls that appear after you execute the cell below. `reducer` will make a master for each value of the FITS keyword listed in ``Group by``. By default this keyword is named ``exposure`` for darks, so if you have darks with exposure times of 10 sec, 15 sec and 120 sec you will get three master darks, one for each exposure time."
   ]
  },
  {
   "cell_type": "code",
   "execution_count": null,
   "metadata": {},
   "outputs": [],
   "source": [
    "reduced_collection = ImageFileCollection(location=destination_dir, keywords='*')\n",
    "\n",
    "dark = astro_gui.Combiner(description=\"Make Combined Dark(s)\",\n",
    "                          toggle_type='button',\n",
    "                          file_name_base='combined_dark',\n",
    "                          group_by=exposure_time_keyword,\n",
    "                          image_source=reduced_collection,\n",
    "                          imagetype_map=imagetype_map,\n",
    "                          apply_to={'imagetyp': 'dark'},\n",
    "                          destination=destination_dir)\n",
    "dark.display()"
   ]
  },
  {
   "cell_type": "code",
   "execution_count": null,
   "metadata": {},
   "outputs": [],
   "source": [
    "print(dark)"
   ]
  },
  {
   "cell_type": "markdown",
   "metadata": {},
   "source": [
    "# Make combined flats"
   ]
  },
  {
   "cell_type": "markdown",
   "metadata": {},
   "source": [
    "## Reduce flat images"
   ]
  },
  {
   "cell_type": "code",
   "execution_count": null,
   "metadata": {},
   "outputs": [],
   "source": [
    "reduced_collection = ImageFileCollection(location=destination_dir, keywords='*')\n",
    "flat_reduction = astro_gui.Reduction(description='Reduce flat frames',\n",
    "                                     toggle_type='button',\n",
    "                                     allow_bias=True,\n",
    "                                     master_source=reduced_collection,\n",
    "                                     allow_dark=True,\n",
    "                                     allow_flat=False,\n",
    "                                     input_image_collection=images,\n",
    "                                     imagetype_map=imagetype_map,\n",
    "                                     exposure_keyword=exposure_time_keyword,\n",
    "                                     destination=destination_dir,\n",
    "                                     apply_to={'imagetyp': 'flat'})\n",
    "\n",
    "flat_reduction.display()"
   ]
  },
  {
   "cell_type": "code",
   "execution_count": null,
   "metadata": {},
   "outputs": [],
   "source": [
    "print(flat_reduction)"
   ]
  },
  {
   "cell_type": "markdown",
   "metadata": {},
   "source": [
    "## Build combined flats\n",
    "\n",
    "Again, note the presence of ``Group by``. If you typically use twilight flats you will almost certainly want to group by filter, not by filter and exposure."
   ]
  },
  {
   "cell_type": "code",
   "execution_count": null,
   "metadata": {},
   "outputs": [],
   "source": [
    "reduced_collection = ImageFileCollection(location=destination_dir, keywords='*')\n",
    "\n",
    "flat = astro_gui.Combiner(description=\"Make Combined Flat(s)\",\n",
    "                          toggle_type='button',\n",
    "                          file_name_base='combined_flat',\n",
    "                          group_by='filter',\n",
    "                          image_source=reduced_collection,\n",
    "                          imagetype_map=imagetype_map,\n",
    "                          apply_to={'imagetyp': 'flat'},\n",
    "                          destination=destination_dir)\n",
    "flat.display()"
   ]
  },
  {
   "cell_type": "code",
   "execution_count": null,
   "metadata": {},
   "outputs": [],
   "source": [
    "print(flat)"
   ]
  },
  {
   "cell_type": "markdown",
   "metadata": {},
   "source": [
    "# Reduce the science images\n",
    "\n",
    "There is some autmatic matching going on here:\n",
    "\n",
    "+ If darks are subtracted a dark of the same edxposure time will be used, if available. If not, and dark scaling is enabled, the dark with the closest exposure time will be scaled to match the science image.\n",
    "+ If the dark you want to scale appears not to be bias-subtracted an error will be raised.\n",
    "+ Flats are matched by filter."
   ]
  },
  {
   "cell_type": "code",
   "execution_count": null,
   "metadata": {},
   "outputs": [],
   "source": [
    "reduced_collection = ImageFileCollection(location=destination_dir, keywords='*')\n",
    "light_reduction = astro_gui.Reduction(description='Reduce light frames',\n",
    "                                      toggle_type='button',\n",
    "                                      allow_cosmic_ray=True,\n",
    "                                      master_source=reduced_collection,\n",
    "                                      input_image_collection=images,\n",
    "                                      imagetype_map=imagetype_map,\n",
    "                                      exposure_keyword=exposure_time_keyword,\n",
    "                                      destination=destination_dir,\n",
    "                                      apply_to={'imagetyp': 'light'})\n",
    "\n",
    "light_reduction.display()"
   ]
  },
  {
   "cell_type": "markdown",
   "metadata": {},
   "source": [
    "## Wonder what the reduced images look like? Make another image browser..."
   ]
  },
  {
   "cell_type": "code",
   "execution_count": null,
   "metadata": {},
   "outputs": [],
   "source": [
    "reduced_collection = ImageFileCollection(location=destination_dir, keywords='*')"
   ]
  },
  {
   "cell_type": "code",
   "execution_count": null,
   "metadata": {},
   "outputs": [],
   "source": [
    "reduced_browser = ImageBrowser(reduced_collection, keys=['imagetyp', 'filter'])\n",
    "reduced_browser.display()"
   ]
  },
  {
   "cell_type": "code",
   "execution_count": null,
   "metadata": {},
   "outputs": [],
   "source": []
  }
 ],
 "metadata": {
  "kernelspec": {
   "display_name": "Python 3 (ipykernel)",
   "language": "python",
   "name": "python3"
  },
  "language_info": {
   "codemirror_mode": {
    "name": "ipython",
    "version": 3
   },
   "file_extension": ".py",
   "mimetype": "text/x-python",
   "name": "python",
   "nbconvert_exporter": "python",
   "pygments_lexer": "ipython3",
   "version": "3.10.6"
  }
 },
 "nbformat": 4,
 "nbformat_minor": 4
}
